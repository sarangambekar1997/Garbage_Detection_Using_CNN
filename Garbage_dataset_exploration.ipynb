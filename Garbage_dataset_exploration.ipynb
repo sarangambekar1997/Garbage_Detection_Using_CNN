{
  "nbformat": 4,
  "nbformat_minor": 0,
  "metadata": {
    "colab": {
      "provenance": [],
      "collapsed_sections": []
    },
    "kernelspec": {
      "name": "python3",
      "display_name": "Python 3"
    },
    "language_info": {
      "name": "python"
    }
  },
  "cells": [
    {
      "cell_type": "code",
      "execution_count": null,
      "metadata": {
        "id": "0xmft_KMXKRH"
      },
      "outputs": [],
      "source": [
        "import numpy as np # linear algebra\n",
        "import pandas as pd # data processing, CSV file I/O (e.g. pd.read_csv)\n",
        "import os\n",
        "import matplotlib.pyplot as plt"
      ]
    },
    {
      "cell_type": "code",
      "source": [
        "from google.colab import drive\n",
        "drive.mount('/content/drive')"
      ],
      "metadata": {
        "colab": {
          "base_uri": "https://localhost:8080/"
        },
        "id": "g515BLt8QZNy",
        "outputId": "c9cca6b0-7bb8-4a0f-b7e5-767e4d647efd"
      },
      "execution_count": null,
      "outputs": [
        {
          "output_type": "stream",
          "name": "stdout",
          "text": [
            "Mounted at /content/drive\n"
          ]
        }
      ]
    },
    {
      "cell_type": "code",
      "source": [
        "train_dir = '/content/drive/MyDrive/Garbage_Detection/garbage_classification/'\n",
        "test_dir = '/content/drive/MyDrive/Garbage_Detection/Testing/'\n",
        "\n",
        "classes=os.listdir('/content/drive/MyDrive/Garbage_Detection/garbage_classification/')"
      ],
      "metadata": {
        "id": "DnfYfUFCXn-Y"
      },
      "execution_count": null,
      "outputs": []
    },
    {
      "cell_type": "code",
      "source": [
        "classes"
      ],
      "metadata": {
        "colab": {
          "base_uri": "https://localhost:8080/"
        },
        "id": "cTCp41JQYIKA",
        "outputId": "b446df67-b0fd-4fd5-d4e8-30e1171471a7"
      },
      "execution_count": null,
      "outputs": [
        {
          "output_type": "execute_result",
          "data": {
            "text/plain": [
              "['metal',\n",
              " 'cardboard',\n",
              " 'green-glass',\n",
              " 'shoes',\n",
              " 'white-glass',\n",
              " 'plastic',\n",
              " 'trash',\n",
              " 'paper',\n",
              " 'clothes',\n",
              " 'biological',\n",
              " 'brown-glass',\n",
              " 'battery']"
            ]
          },
          "metadata": {},
          "execution_count": 4
        }
      ]
    },
    {
      "cell_type": "markdown",
      "source": [
        "So we have folderwise data classes and seperation between them as Test and train data\n",
        "\n",
        "test_train_distribution() gives the distribution"
      ],
      "metadata": {
        "id": "J9r_0on_YUvv"
      }
    },
    {
      "cell_type": "code",
      "source": [
        "train_count = []\n",
        "train_dict={}\n",
        "test_count = []\n",
        "test_dict ={}\n",
        "# avg_of_train_data=0\n",
        "# avg_of_test_data=0\n",
        "\n",
        "def test_train_distribution():\n",
        "  print(\"Train Set :\")\n",
        "\n",
        "  for folder in os.listdir(train_dir) :\n",
        "      # print(folder, \"folder contains:\", len(os.listdir(train_dir+folder)), \"image\")\n",
        "      train_count.append(len(os.listdir(train_dir+folder)))\n",
        "      train_dict[folder]=len(os.listdir(train_dir+folder))\n",
        "  avg_of_train_data=sum(train_count)/len(train_count)\n",
        "  print(train_dict)\n",
        "  print(\"Avgerage dataset len should be ~\",round(avg_of_train_data))    \n",
        "  print()\n",
        "\n",
        "  #####################test##################\n",
        "\n",
        "  \n",
        "  print(\"Test Set :\")\n",
        "  \n",
        "\n",
        "\n",
        "  for folder in os.listdir(test_dir) :\n",
        "      # print(folder, \"folder contains:\", len(os.listdir(test_dir+folder)), \"images\")\n",
        "      test_count.append(len(os.listdir(test_dir+folder)))\n",
        "      test_dict[folder]=len(os.listdir(test_dir+folder))\n",
        "  avg_of_test_data=sum(test_count)/len(test_count)\n",
        "\n",
        "  print(test_dict)\n",
        "test_train_distribution()"
      ],
      "metadata": {
        "colab": {
          "base_uri": "https://localhost:8080/"
        },
        "id": "OlrFcYagYQxq",
        "outputId": "dd800493-5f78-4d99-fd67-c3f05de32dc2"
      },
      "execution_count": null,
      "outputs": [
        {
          "output_type": "stream",
          "name": "stdout",
          "text": [
            "Train Set :\n",
            "{'metal': 769, 'cardboard': 891, 'green-glass': 629, 'shoes': 1977, 'white-glass': 775, 'plastic': 865, 'trash': 697, 'paper': 1050, 'clothes': 5325, 'biological': 985, 'brown-glass': 607, 'battery': 945}\n",
            "Avgerage dataset len should be ~ 1293\n",
            "\n",
            "Test Set :\n",
            "{'cardboard': 147, 'trash': 141, 'paper': 250, 'brown_glass': 147, 'white_glass': 199, 'metal': 150, 'plastic': 133, 'clothes': 195, 'green_glass': 101, 'shoes': 252, 'battery': 201, 'biological': 241}\n"
          ]
        }
      ]
    },
    {
      "cell_type": "code",
      "source": [
        "def plot_data_dist(dictn):\n",
        "  def addlabels(x,y):\n",
        "      for i in range(len(x)):\n",
        "          plt.text(i,y[i],y[i])\n",
        "\n",
        "\n",
        "  names = list(dictn.keys())\n",
        "  values = list(dictn.values())\n",
        "  addlabels(names,values)\n",
        "\n",
        "  plt.bar(range(len(dictn)), values, tick_label=names)\n",
        "  plt.show()\n",
        "\n",
        "plot_data_dist(train_dict)\n",
        "plot_data_dist(test_dict)"
      ],
      "metadata": {
        "colab": {
          "base_uri": "https://localhost:8080/",
          "height": 514
        },
        "id": "Y29dVwuEYmr9",
        "outputId": "584e7bda-8d60-4936-d631-1d456a7187c1"
      },
      "execution_count": null,
      "outputs": [
        {
          "output_type": "display_data",
          "data": {
            "text/plain": [
              "<Figure size 432x288 with 1 Axes>"
            ],
            "image/png": "[encoded data removed]"
          },
          "metadata": {
            "needs_background": "light"
          }
        },
        {
          "output_type": "display_data",
          "data": {
            "text/plain": [
              "<Figure size 432x288 with 1 Axes>"
            ],
            "image/png": "[encoded data removed]"
          },
          "metadata": {
            "needs_background": "light"
          }
        }
      ]
    },
    {
      "cell_type": "code",
      "source": [
        "#averages of train test sets\n",
        "avg_of_train_data=round(sum(train_count)/len(train_count))\n",
        "avg_of_test_data=round(sum(test_count)/len(test_count))"
      ],
      "metadata": {
        "id": "SILzwNmiYv26"
      },
      "execution_count": null,
      "outputs": []
    },
    {
      "cell_type": "code",
      "source": [
        "#average of test train\n",
        "avg_of_train_data,avg_of_test_data"
      ],
      "metadata": {
        "colab": {
          "base_uri": "https://localhost:8080/"
        },
        "id": "AdAh8vCgY4w0",
        "outputId": "cb8752fa-45e0-4457-bcba-fb8ae815a97e"
      },
      "execution_count": null,
      "outputs": [
        {
          "output_type": "execute_result",
          "data": {
            "text/plain": [
              "(1293, 180)"
            ]
          },
          "metadata": {},
          "execution_count": 8
        }
      ]
    },
    {
      "cell_type": "markdown",
      "source": [
        "Data Augmentation\n",
        "\n",
        "Upsampling images to average value of dataset"
      ],
      "metadata": {
        "id": "iMp29ol7ZBLp"
      }
    },
    {
      "cell_type": "code",
      "source": [
        "def upsample_to_Average(avg_value,path):\n",
        "  print(\"working on upsampling :\",path,\"with : \",avg_value,\"avg value\")\n",
        "  \"\"\"\n",
        "  provided path of train and test dir \n",
        "  and average of total classes \n",
        "  upsamples data to average \n",
        "  run once !!!!!!!\n",
        "  \"\"\"\n",
        "  import shutil\n",
        "  from keras.preprocessing.image import ImageDataGenerator\n",
        "  for dir in os.listdir(path):\n",
        "    # print(len(os.listdir(path+\"/\"+dir)))\n",
        "    if (len(os.listdir(path+\"/\"+dir))) < avg_value :\n",
        "      upsample=avg_value-(len(os.listdir(path+\"/\"+dir)))\n",
        "\n",
        "      print(dir,\"below average by \",upsample,\" Now Upsampling !!!\")\n",
        "      \n",
        "      shutil.copytree(path+\"/\"+dir, \"/content/augmentation_Dump/\"+dir)\n",
        "\n",
        "      datagen = ImageDataGenerator(\n",
        "      rotation_range=45,\n",
        "      width_shift_range=0.2,\n",
        "      height_shift_range=0.2,\n",
        "      shear_range = 0.2,\n",
        "      zoom_range = 0.2, \n",
        "      horizontal_flip=True,\n",
        "      fill_mode = 'reflect', cval = 125)\n",
        "      i = 0\n",
        "      breaker=round(upsample/32)\n",
        "      # print(breaker)\n",
        "\n",
        "      augmentation_Dump_dir=\"/content/augmentation_Dump\"\n",
        "      target_dir=path+\"/\"+dir+\"/\"\n",
        "      # print(target_dir,augmentation_Dump_dir)\n",
        "      for batch in datagen.flow_from_directory(augmentation_Dump_dir,\n",
        "                                          batch_size = 64,\n",
        "                                          target_size = (224, 224),\n",
        "                                          save_to_dir = target_dir,\n",
        "                                          save_prefix = 'aug',\n",
        "                                          save_format = 'jpg',\n",
        "                                          class_mode=None):\n",
        "        \n",
        "        i += 1\n",
        "        if i > breaker:\n",
        "          shutil.rmtree(\"/content/augmentation_Dump\")\n",
        "          break\n",
        "\n",
        "\n",
        "#train data upsampling\n",
        "upsample_to_Average(avg_of_train_data,\"/content/drive/MyDrive/Garbage_Detection/garbage_classification/\")"
      ],
      "metadata": {
        "colab": {
          "base_uri": "https://localhost:8080/"
        },
        "id": "OIMWE6EAY9z9",
        "outputId": "3f5060b9-8c0a-485d-caba-57bd1450f7db"
      },
      "execution_count": null,
      "outputs": [
        {
          "output_type": "stream",
          "name": "stdout",
          "text": [
            "working on upsampling : /content/drive/MyDrive/Garbage_Detection/garbage_classification/ with :  1293 avg value\n"
          ]
        }
      ]
    },
    {
      "cell_type": "code",
      "source": [
        "test_train_distribution()"
      ],
      "metadata": {
        "colab": {
          "base_uri": "https://localhost:8080/"
        },
        "id": "MbgT47sMaFcQ",
        "outputId": "cbaea81e-0e27-499b-c3e1-b91538927df7"
      },
      "execution_count": null,
      "outputs": [
        {
          "output_type": "stream",
          "name": "stdout",
          "text": [
            "Train Set :\n",
            "{'metal': 1626, 'cardboard': 1626, 'green-glass': 1626, 'shoes': 1626, 'white-glass': 1626, 'plastic': 1626, 'trash': 1626, 'paper': 1626, 'clothes': 1626, 'biological': 1626, 'brown-glass': 1626, 'battery': 1626}\n",
            "Avgerage dataset len should be ~ 1657\n",
            "\n",
            "Test Set :\n",
            "{'cardboard': 147, 'trash': 141, 'paper': 250, 'brown_glass': 147, 'white_glass': 199, 'metal': 150, 'plastic': 133, 'clothes': 195, 'green_glass': 101, 'shoes': 252, 'battery': 201, 'biological': 241}\n"
          ]
        }
      ]
    },
    {
      "cell_type": "markdown",
      "source": [
        "Downsampling"
      ],
      "metadata": {
        "id": "aCpDRJgmb4na"
      }
    },
    {
      "cell_type": "code",
      "source": [
        "def downsample_to_Average(path):\n",
        "  \n",
        "  \"\"\"\n",
        "  provided path of train and test dir \n",
        "  and average of total classes \n",
        "  down data to min of them usin RANDOM\n",
        "  run once !!!!!!!\n",
        "  \"\"\"\n",
        "  from random import sample\n",
        "  dirct=os.listdir(path)\n",
        "\n",
        "  lenghts=[]\n",
        "\n",
        "\n",
        "  for dir in dirct:\n",
        "    lenth=len(os.listdir(path+'/'+dir))\n",
        "    lenghts.append(lenth)\n",
        "  min(lenghts)\n",
        "  print(\"working on downsampling on path :\",path,\"with : \",min(lenghts),\"as min value\")\n",
        "  for dir in dirct:\n",
        "    lenth=len(os.listdir(path+'/'+dir))\n",
        "    if lenth>min(lenghts):\n",
        "      files_no=lenth-min(lenghts)\n",
        "      files = os.listdir(path+'/'+dir)\n",
        "      for file in sample(files,files_no):\n",
        "        os.remove(path+'/'+dir+\"/\"+file)\n",
        "\n",
        "downsample_to_Average(\"/content/drive/MyDrive/Garbage_Detection/garbage_classification/\")"
      ],
      "metadata": {
        "colab": {
          "base_uri": "https://localhost:8080/"
        },
        "id": "EczVUAyabx_A",
        "outputId": "ea6b9632-0e1b-4feb-cd7c-34ac23b438ff"
      },
      "execution_count": null,
      "outputs": [
        {
          "output_type": "stream",
          "name": "stdout",
          "text": [
            "working on downsampling on path : /content/drive/MyDrive/Garbage_Detection/garbage_classification/ with :  1626 as min value\n"
          ]
        }
      ]
    },
    {
      "cell_type": "code",
      "source": [
        "test_train_distribution()"
      ],
      "metadata": {
        "colab": {
          "base_uri": "https://localhost:8080/"
        },
        "id": "RRtzGeXCce7C",
        "outputId": "b775feee-9be8-4a50-db7b-2c94eebbde83"
      },
      "execution_count": null,
      "outputs": [
        {
          "output_type": "stream",
          "name": "stdout",
          "text": [
            "Train Set :\n",
            "{'metal': 1626, 'cardboard': 1626, 'green-glass': 1626, 'shoes': 1626, 'white-glass': 1626, 'plastic': 1626, 'trash': 1626, 'paper': 1626, 'clothes': 1626, 'biological': 1626, 'brown-glass': 1626, 'battery': 1626}\n",
            "Avgerage dataset len should be ~ 1652\n",
            "\n",
            "Test Set :\n",
            "{'cardboard': 147, 'trash': 141, 'paper': 250, 'brown_glass': 147, 'white_glass': 199, 'metal': 150, 'plastic': 133, 'clothes': 195, 'green_glass': 101, 'shoes': 252, 'battery': 201, 'biological': 241}\n"
          ]
        }
      ]
    },
    {
      "cell_type": "code",
      "source": [
        "def plot_data_dist(dictn):\n",
        "  def addlabels(x,y):\n",
        "      for i in range(len(x)):\n",
        "          plt.text(i,y[i],y[i])\n",
        "\n",
        "\n",
        "  names = list(dictn.keys())\n",
        "  values = list(dictn.values())\n",
        "  addlabels(names,values)\n",
        "\n",
        "  plt.bar(range(len(dictn)), values, tick_label=names)\n",
        "  plt.show()\n",
        "\n",
        "plot_data_dist(train_dict)\n",
        "plot_data_dist(test_dict)"
      ],
      "metadata": {
        "colab": {
          "base_uri": "https://localhost:8080/",
          "height": 514
        },
        "id": "U-OlkPaKgXg_",
        "outputId": "7a610697-c05d-4da1-85b8-efcf662d6cf8"
      },
      "execution_count": null,
      "outputs": [
        {
          "output_type": "display_data",
          "data": {
            "text/plain": [
              "<Figure size 432x288 with 1 Axes>"
            ],
            "image/png": "[encoded data removed]"
          },
          "metadata": {
            "needs_background": "light"
          }
        },
        {
          "output_type": "display_data",
          "data": {
            "text/plain": [
              "<Figure size 432x288 with 1 Axes>"
            ],
            "image/png": "[encoded data removed]"
          },
          "metadata": {
            "needs_background": "light"
          }
        }
      ]
    }
  ]
}